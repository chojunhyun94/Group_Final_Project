{
 "cells": [
  {
   "cell_type": "code",
   "execution_count": 2,
   "metadata": {
    "colab": {
     "base_uri": "https://localhost:8080/"
    },
    "id": "OmOtPSkK2_a9",
    "outputId": "754a6689-6841-4f7c-efd0-dd3bfd7d4f1d"
   },
   "outputs": [
    {
     "name": "stderr",
     "output_type": "stream",
     "text": [
      "C:\\Users\\choju\\AppData\\Roaming\\Python\\Python37\\site-packages\\IPython\\core\\interactiveshell.py:3553: DtypeWarning: Columns (17,18,20,22,23,29,30,31,32,36,38) have mixed types.Specify dtype option on import or set low_memory=False.\n",
      "  exec(code_obj, self.user_global_ns, self.user_ns)\n"
     ]
    }
   ],
   "source": [
    "import pandas as pd\n",
    "#original file had to be deleted\n",
    "df = pd.read_csv('../Resources/Parking_Violations_Issued_-_Fiscal_Year_2023.csv')"
   ]
  },
  {
   "cell_type": "code",
   "execution_count": null,
   "metadata": {
    "colab": {
     "base_uri": "https://localhost:8080/",
     "height": 548
    },
    "id": "Az-lfOPj3J9p",
    "outputId": "fd948fc8-246d-4ec4-915b-07728625da08"
   },
   "outputs": [],
   "source": [
    "pd.set_option('display.max_columns', None)\n",
    "df.head(10)\n"
   ]
  },
  {
   "cell_type": "code",
   "execution_count": null,
   "metadata": {
    "colab": {
     "base_uri": "https://localhost:8080/"
    },
    "id": "97HeVzXM3Rzw",
    "outputId": "13dd0da9-ae95-4ff8-b50c-defab750c625"
   },
   "outputs": [],
   "source": [
    "len(df.index)"
   ]
  },
  {
   "cell_type": "code",
   "execution_count": null,
   "metadata": {
    "colab": {
     "base_uri": "https://localhost:8080/"
    },
    "id": "Rit5_IPL3qOo",
    "outputId": "492ce3a5-514a-42c5-ec9b-7ea5f21b6cfd"
   },
   "outputs": [],
   "source": [
    "df.isna().sum()"
   ]
  },
  {
   "cell_type": "code",
   "execution_count": 3,
   "metadata": {
    "id": "erqsf-Sz4MYh"
   },
   "outputs": [],
   "source": [
    "dropped_df = df.drop(['Unregistered Vehicle?', 'No Standing or Stopping Violation', 'Hydrant Violation', 'Double Parking Violation', \\\n",
    "                      'Issuer Precinct', 'Issuer Code', 'Issuer Command', 'Issuer Squad', 'Intersecting Street', 'Issuing Agency', \\\n",
    "                      'Law Section', 'Sub Division', 'Violation Legal Code', 'Violation Precinct', 'Violation Description', \\\n",
    "                      'Feet From Curb', 'Meter Number', 'To Hours In Effect', 'From Hours In Effect', \\\n",
    "                      'Violation Legal Code', 'Sub Division', 'Violation County', 'Violation In Front Of Or Opposite', 'House Number', \\\n",
    "                      'Violation Post Code', 'Time First Observed', 'Date First Observed', 'Street Code1', 'Street Code2', 'Street Code3',\\\n",
    "                      'Plate ID', 'Summons Number', 'Issue Date', 'Days Parking In Effect    ', 'Street Name', 'Violation Location', 'Vehicle Expiration Date'], axis = 1)"
   ]
  },
  {
   "cell_type": "code",
   "execution_count": 4,
   "metadata": {
    "colab": {
     "base_uri": "https://localhost:8080/",
     "height": 363
    },
    "id": "SmtaBJWR7gUd",
    "outputId": "ab235d90-e0b1-4877-d0eb-e16f67281d84"
   },
   "outputs": [
    {
     "data": {
      "text/html": [
       "<div>\n",
       "<style scoped>\n",
       "    .dataframe tbody tr th:only-of-type {\n",
       "        vertical-align: middle;\n",
       "    }\n",
       "\n",
       "    .dataframe tbody tr th {\n",
       "        vertical-align: top;\n",
       "    }\n",
       "\n",
       "    .dataframe thead th {\n",
       "        text-align: right;\n",
       "    }\n",
       "</style>\n",
       "<table border=\"1\" class=\"dataframe\">\n",
       "  <thead>\n",
       "    <tr style=\"text-align: right;\">\n",
       "      <th></th>\n",
       "      <th>Registration State</th>\n",
       "      <th>Plate Type</th>\n",
       "      <th>Violation Code</th>\n",
       "      <th>Vehicle Body Type</th>\n",
       "      <th>Vehicle Make</th>\n",
       "      <th>Violation Time</th>\n",
       "      <th>Vehicle Color</th>\n",
       "      <th>Vehicle Year</th>\n",
       "    </tr>\n",
       "  </thead>\n",
       "  <tbody>\n",
       "    <tr>\n",
       "      <th>0</th>\n",
       "      <td>NY</td>\n",
       "      <td>PAS</td>\n",
       "      <td>67</td>\n",
       "      <td>SDN</td>\n",
       "      <td>TOYOT</td>\n",
       "      <td>1037A</td>\n",
       "      <td>BLK</td>\n",
       "      <td>2004</td>\n",
       "    </tr>\n",
       "    <tr>\n",
       "      <th>1</th>\n",
       "      <td>NY</td>\n",
       "      <td>PAS</td>\n",
       "      <td>51</td>\n",
       "      <td>SUBN</td>\n",
       "      <td>JEEP</td>\n",
       "      <td>1045A</td>\n",
       "      <td>GRAY</td>\n",
       "      <td>2017</td>\n",
       "    </tr>\n",
       "    <tr>\n",
       "      <th>2</th>\n",
       "      <td>NJ</td>\n",
       "      <td>PAS</td>\n",
       "      <td>63</td>\n",
       "      <td>SDN</td>\n",
       "      <td>JEEP</td>\n",
       "      <td>1116A</td>\n",
       "      <td>GRAY</td>\n",
       "      <td>0</td>\n",
       "    </tr>\n",
       "    <tr>\n",
       "      <th>3</th>\n",
       "      <td>NY</td>\n",
       "      <td>PAS</td>\n",
       "      <td>63</td>\n",
       "      <td>SUBN</td>\n",
       "      <td>LEXUS</td>\n",
       "      <td>1052A</td>\n",
       "      <td>NaN</td>\n",
       "      <td>0</td>\n",
       "    </tr>\n",
       "    <tr>\n",
       "      <th>4</th>\n",
       "      <td>NJ</td>\n",
       "      <td>PAS</td>\n",
       "      <td>63</td>\n",
       "      <td>SDN</td>\n",
       "      <td>HYUND</td>\n",
       "      <td>1107A</td>\n",
       "      <td>BLUE</td>\n",
       "      <td>0</td>\n",
       "    </tr>\n",
       "    <tr>\n",
       "      <th>5</th>\n",
       "      <td>NJ</td>\n",
       "      <td>PAS</td>\n",
       "      <td>63</td>\n",
       "      <td>NaN</td>\n",
       "      <td>JEEP</td>\n",
       "      <td>1050A</td>\n",
       "      <td>NaN</td>\n",
       "      <td>0</td>\n",
       "    </tr>\n",
       "    <tr>\n",
       "      <th>6</th>\n",
       "      <td>NJ</td>\n",
       "      <td>PAS</td>\n",
       "      <td>63</td>\n",
       "      <td>NaN</td>\n",
       "      <td>HYUND</td>\n",
       "      <td>1101A</td>\n",
       "      <td>BLUE</td>\n",
       "      <td>0</td>\n",
       "    </tr>\n",
       "    <tr>\n",
       "      <th>7</th>\n",
       "      <td>NY</td>\n",
       "      <td>PAS</td>\n",
       "      <td>67</td>\n",
       "      <td>SUBN</td>\n",
       "      <td>TOYOT</td>\n",
       "      <td>1205P</td>\n",
       "      <td>WHITE</td>\n",
       "      <td>2021</td>\n",
       "    </tr>\n",
       "    <tr>\n",
       "      <th>8</th>\n",
       "      <td>NY</td>\n",
       "      <td>PAS</td>\n",
       "      <td>98</td>\n",
       "      <td>SUBN</td>\n",
       "      <td>NISSA</td>\n",
       "      <td>0535P</td>\n",
       "      <td>BLK</td>\n",
       "      <td>2002</td>\n",
       "    </tr>\n",
       "    <tr>\n",
       "      <th>9</th>\n",
       "      <td>NJ</td>\n",
       "      <td>PAS</td>\n",
       "      <td>10</td>\n",
       "      <td>SUBN</td>\n",
       "      <td>JEEP</td>\n",
       "      <td>0307P</td>\n",
       "      <td>RED</td>\n",
       "      <td>0</td>\n",
       "    </tr>\n",
       "  </tbody>\n",
       "</table>\n",
       "</div>"
      ],
      "text/plain": [
       "  Registration State Plate Type  Violation Code Vehicle Body Type  \\\n",
       "0                 NY        PAS              67               SDN   \n",
       "1                 NY        PAS              51              SUBN   \n",
       "2                 NJ        PAS              63               SDN   \n",
       "3                 NY        PAS              63              SUBN   \n",
       "4                 NJ        PAS              63               SDN   \n",
       "5                 NJ        PAS              63               NaN   \n",
       "6                 NJ        PAS              63               NaN   \n",
       "7                 NY        PAS              67              SUBN   \n",
       "8                 NY        PAS              98              SUBN   \n",
       "9                 NJ        PAS              10              SUBN   \n",
       "\n",
       "  Vehicle Make Violation Time Vehicle Color  Vehicle Year  \n",
       "0        TOYOT          1037A           BLK          2004  \n",
       "1         JEEP          1045A          GRAY          2017  \n",
       "2         JEEP          1116A          GRAY             0  \n",
       "3        LEXUS          1052A           NaN             0  \n",
       "4        HYUND          1107A          BLUE             0  \n",
       "5         JEEP          1050A           NaN             0  \n",
       "6        HYUND          1101A          BLUE             0  \n",
       "7        TOYOT          1205P         WHITE          2021  \n",
       "8        NISSA          0535P           BLK          2002  \n",
       "9         JEEP          0307P           RED             0  "
      ]
     },
     "execution_count": 4,
     "metadata": {},
     "output_type": "execute_result"
    }
   ],
   "source": [
    "dropped_df.head(10)"
   ]
  },
  {
   "cell_type": "code",
   "execution_count": 5,
   "metadata": {
    "colab": {
     "base_uri": "https://localhost:8080/"
    },
    "id": "o9ciGrjv919Y",
    "outputId": "36830463-5498-45fa-b756-b086171426f3"
   },
   "outputs": [
    {
     "data": {
      "text/plain": [
       "Registration State    object\n",
       "Plate Type            object\n",
       "Violation Code         int64\n",
       "Vehicle Body Type     object\n",
       "Vehicle Make          object\n",
       "Violation Time        object\n",
       "Vehicle Color         object\n",
       "Vehicle Year           int64\n",
       "dtype: object"
      ]
     },
     "execution_count": 5,
     "metadata": {},
     "output_type": "execute_result"
    }
   ],
   "source": [
    "dropped_df.dtypes"
   ]
  },
  {
   "cell_type": "code",
   "execution_count": 6,
   "metadata": {
    "colab": {
     "base_uri": "https://localhost:8080/",
     "height": 105
    },
    "id": "dgURod4I8Pf8",
    "outputId": "b2a00579-ab51-4a69-e043-eefa6a129abf"
   },
   "outputs": [],
   "source": [
    "dropped_df = dropped_df.dropna()"
   ]
  },
  {
   "cell_type": "code",
   "execution_count": 8,
   "metadata": {
    "colab": {
     "base_uri": "https://localhost:8080/"
    },
    "id": "9d8qt-FaB8Us",
    "outputId": "bc2edd5d-dd2f-436a-a754-063930fb8eb3"
   },
   "outputs": [
    {
     "data": {
      "text/html": [
       "<div>\n",
       "<style scoped>\n",
       "    .dataframe tbody tr th:only-of-type {\n",
       "        vertical-align: middle;\n",
       "    }\n",
       "\n",
       "    .dataframe tbody tr th {\n",
       "        vertical-align: top;\n",
       "    }\n",
       "\n",
       "    .dataframe thead th {\n",
       "        text-align: right;\n",
       "    }\n",
       "</style>\n",
       "<table border=\"1\" class=\"dataframe\">\n",
       "  <thead>\n",
       "    <tr style=\"text-align: right;\">\n",
       "      <th></th>\n",
       "      <th>Registration State</th>\n",
       "      <th>Plate Type</th>\n",
       "      <th>Violation Code</th>\n",
       "      <th>Vehicle Body Type</th>\n",
       "      <th>Vehicle Make</th>\n",
       "      <th>Violation Time</th>\n",
       "      <th>Vehicle Color</th>\n",
       "      <th>Vehicle Year</th>\n",
       "    </tr>\n",
       "  </thead>\n",
       "  <tbody>\n",
       "    <tr>\n",
       "      <th>0</th>\n",
       "      <td>NY</td>\n",
       "      <td>PAS</td>\n",
       "      <td>67</td>\n",
       "      <td>SDN</td>\n",
       "      <td>TOYOT</td>\n",
       "      <td>1037A</td>\n",
       "      <td>BLK</td>\n",
       "      <td>2004</td>\n",
       "    </tr>\n",
       "    <tr>\n",
       "      <th>1</th>\n",
       "      <td>NY</td>\n",
       "      <td>PAS</td>\n",
       "      <td>51</td>\n",
       "      <td>SUBN</td>\n",
       "      <td>JEEP</td>\n",
       "      <td>1045A</td>\n",
       "      <td>GRAY</td>\n",
       "      <td>2017</td>\n",
       "    </tr>\n",
       "    <tr>\n",
       "      <th>7</th>\n",
       "      <td>NY</td>\n",
       "      <td>PAS</td>\n",
       "      <td>67</td>\n",
       "      <td>SUBN</td>\n",
       "      <td>TOYOT</td>\n",
       "      <td>1205P</td>\n",
       "      <td>WHITE</td>\n",
       "      <td>2021</td>\n",
       "    </tr>\n",
       "    <tr>\n",
       "      <th>8</th>\n",
       "      <td>NY</td>\n",
       "      <td>PAS</td>\n",
       "      <td>98</td>\n",
       "      <td>SUBN</td>\n",
       "      <td>NISSA</td>\n",
       "      <td>0535P</td>\n",
       "      <td>BLK</td>\n",
       "      <td>2002</td>\n",
       "    </tr>\n",
       "    <tr>\n",
       "      <th>11</th>\n",
       "      <td>FL</td>\n",
       "      <td>PAS</td>\n",
       "      <td>51</td>\n",
       "      <td>SUBN</td>\n",
       "      <td>SUBAR</td>\n",
       "      <td>0320P</td>\n",
       "      <td>GRAY</td>\n",
       "      <td>2005</td>\n",
       "    </tr>\n",
       "    <tr>\n",
       "      <th>12</th>\n",
       "      <td>NY</td>\n",
       "      <td>PAS</td>\n",
       "      <td>63</td>\n",
       "      <td>SUBN</td>\n",
       "      <td>CHEVR</td>\n",
       "      <td>1102A</td>\n",
       "      <td>WHT</td>\n",
       "      <td>2010</td>\n",
       "    </tr>\n",
       "    <tr>\n",
       "      <th>13</th>\n",
       "      <td>NY</td>\n",
       "      <td>PAS</td>\n",
       "      <td>45</td>\n",
       "      <td>SDN</td>\n",
       "      <td>NISSA</td>\n",
       "      <td>0606P</td>\n",
       "      <td>BLK</td>\n",
       "      <td>2002</td>\n",
       "    </tr>\n",
       "    <tr>\n",
       "      <th>14</th>\n",
       "      <td>NY</td>\n",
       "      <td>OMS</td>\n",
       "      <td>14</td>\n",
       "      <td>SDN</td>\n",
       "      <td>TOYOT</td>\n",
       "      <td>1250P</td>\n",
       "      <td>BLACK</td>\n",
       "      <td>2022</td>\n",
       "    </tr>\n",
       "    <tr>\n",
       "      <th>15</th>\n",
       "      <td>NY</td>\n",
       "      <td>PAS</td>\n",
       "      <td>20</td>\n",
       "      <td>SUBN</td>\n",
       "      <td>HONDA</td>\n",
       "      <td>1031A</td>\n",
       "      <td>RED</td>\n",
       "      <td>2005</td>\n",
       "    </tr>\n",
       "    <tr>\n",
       "      <th>18</th>\n",
       "      <td>NY</td>\n",
       "      <td>PAS</td>\n",
       "      <td>27</td>\n",
       "      <td>SDN</td>\n",
       "      <td>NISSA</td>\n",
       "      <td>0607P</td>\n",
       "      <td>BLACK</td>\n",
       "      <td>2022</td>\n",
       "    </tr>\n",
       "    <tr>\n",
       "      <th>19</th>\n",
       "      <td>NY</td>\n",
       "      <td>PAS</td>\n",
       "      <td>20</td>\n",
       "      <td>SUBN</td>\n",
       "      <td>ME/BE</td>\n",
       "      <td>0712P</td>\n",
       "      <td>WHITE</td>\n",
       "      <td>2021</td>\n",
       "    </tr>\n",
       "    <tr>\n",
       "      <th>20</th>\n",
       "      <td>NY</td>\n",
       "      <td>PAS</td>\n",
       "      <td>20</td>\n",
       "      <td>SUBN</td>\n",
       "      <td>SUBAR</td>\n",
       "      <td>0235P</td>\n",
       "      <td>GL</td>\n",
       "      <td>2016</td>\n",
       "    </tr>\n",
       "    <tr>\n",
       "      <th>21</th>\n",
       "      <td>NY</td>\n",
       "      <td>PAS</td>\n",
       "      <td>20</td>\n",
       "      <td>SUBN</td>\n",
       "      <td>ME/BE</td>\n",
       "      <td>0156P</td>\n",
       "      <td>WHITE</td>\n",
       "      <td>2019</td>\n",
       "    </tr>\n",
       "    <tr>\n",
       "      <th>22</th>\n",
       "      <td>NY</td>\n",
       "      <td>PAS</td>\n",
       "      <td>20</td>\n",
       "      <td>SDN</td>\n",
       "      <td>LEXUS</td>\n",
       "      <td>0148P</td>\n",
       "      <td>BLK</td>\n",
       "      <td>2021</td>\n",
       "    </tr>\n",
       "    <tr>\n",
       "      <th>23</th>\n",
       "      <td>NY</td>\n",
       "      <td>PAS</td>\n",
       "      <td>68</td>\n",
       "      <td>SDN</td>\n",
       "      <td>CHEVR</td>\n",
       "      <td>0626P</td>\n",
       "      <td>SILVE</td>\n",
       "      <td>2015</td>\n",
       "    </tr>\n",
       "    <tr>\n",
       "      <th>24</th>\n",
       "      <td>NY</td>\n",
       "      <td>PAS</td>\n",
       "      <td>20</td>\n",
       "      <td>SDN</td>\n",
       "      <td>CHEVR</td>\n",
       "      <td>0841P</td>\n",
       "      <td>SILVE</td>\n",
       "      <td>2011</td>\n",
       "    </tr>\n",
       "    <tr>\n",
       "      <th>25</th>\n",
       "      <td>NY</td>\n",
       "      <td>PAS</td>\n",
       "      <td>27</td>\n",
       "      <td>SDN</td>\n",
       "      <td>VOLKS</td>\n",
       "      <td>0613P</td>\n",
       "      <td>BLACK</td>\n",
       "      <td>2018</td>\n",
       "    </tr>\n",
       "    <tr>\n",
       "      <th>26</th>\n",
       "      <td>NY</td>\n",
       "      <td>PAS</td>\n",
       "      <td>14</td>\n",
       "      <td>SUBN</td>\n",
       "      <td>ACURA</td>\n",
       "      <td>0940A</td>\n",
       "      <td>WHITE</td>\n",
       "      <td>2020</td>\n",
       "    </tr>\n",
       "    <tr>\n",
       "      <th>27</th>\n",
       "      <td>NY</td>\n",
       "      <td>PAS</td>\n",
       "      <td>14</td>\n",
       "      <td>SUBN</td>\n",
       "      <td>ROVER</td>\n",
       "      <td>1151A</td>\n",
       "      <td>BLK</td>\n",
       "      <td>2019</td>\n",
       "    </tr>\n",
       "  </tbody>\n",
       "</table>\n",
       "</div>"
      ],
      "text/plain": [
       "   Registration State Plate Type  Violation Code Vehicle Body Type  \\\n",
       "0                  NY        PAS              67               SDN   \n",
       "1                  NY        PAS              51              SUBN   \n",
       "7                  NY        PAS              67              SUBN   \n",
       "8                  NY        PAS              98              SUBN   \n",
       "11                 FL        PAS              51              SUBN   \n",
       "12                 NY        PAS              63              SUBN   \n",
       "13                 NY        PAS              45               SDN   \n",
       "14                 NY        OMS              14               SDN   \n",
       "15                 NY        PAS              20              SUBN   \n",
       "18                 NY        PAS              27               SDN   \n",
       "19                 NY        PAS              20              SUBN   \n",
       "20                 NY        PAS              20              SUBN   \n",
       "21                 NY        PAS              20              SUBN   \n",
       "22                 NY        PAS              20               SDN   \n",
       "23                 NY        PAS              68               SDN   \n",
       "24                 NY        PAS              20               SDN   \n",
       "25                 NY        PAS              27               SDN   \n",
       "26                 NY        PAS              14              SUBN   \n",
       "27                 NY        PAS              14              SUBN   \n",
       "\n",
       "   Vehicle Make Violation Time Vehicle Color  Vehicle Year  \n",
       "0         TOYOT          1037A           BLK          2004  \n",
       "1          JEEP          1045A          GRAY          2017  \n",
       "7         TOYOT          1205P         WHITE          2021  \n",
       "8         NISSA          0535P           BLK          2002  \n",
       "11        SUBAR          0320P          GRAY          2005  \n",
       "12        CHEVR          1102A           WHT          2010  \n",
       "13        NISSA          0606P           BLK          2002  \n",
       "14        TOYOT          1250P         BLACK          2022  \n",
       "15        HONDA          1031A           RED          2005  \n",
       "18        NISSA          0607P         BLACK          2022  \n",
       "19        ME/BE          0712P         WHITE          2021  \n",
       "20        SUBAR          0235P            GL          2016  \n",
       "21        ME/BE          0156P         WHITE          2019  \n",
       "22        LEXUS          0148P           BLK          2021  \n",
       "23        CHEVR          0626P         SILVE          2015  \n",
       "24        CHEVR          0841P         SILVE          2011  \n",
       "25        VOLKS          0613P         BLACK          2018  \n",
       "26        ACURA          0940A         WHITE          2020  \n",
       "27        ROVER          1151A           BLK          2019  "
      ]
     },
     "execution_count": 8,
     "metadata": {},
     "output_type": "execute_result"
    }
   ],
   "source": [
    "drop_zero_df = dropped_df.loc[dropped_df['Vehicle Year'] != 0]\n",
    "drop_zero_df = drop_zero_df.loc[drop_zero_df['Violation Code'] != 0]\n",
    "drop_zero_df = drop_zero_df.loc[drop_zero_df['Violation Time'] != 0]\n",
    "drop_zero_df.head(19)"
   ]
  },
  {
   "cell_type": "code",
   "execution_count": 9,
   "metadata": {},
   "outputs": [
    {
     "data": {
      "text/plain": [
       "Registration State    7659315\n",
       "Plate Type            7659315\n",
       "Violation Code        7659315\n",
       "Vehicle Body Type     7659315\n",
       "Vehicle Make          7659315\n",
       "Violation Time        7659315\n",
       "Vehicle Color         7659315\n",
       "Vehicle Year          7659315\n",
       "dtype: int64"
      ]
     },
     "execution_count": 9,
     "metadata": {},
     "output_type": "execute_result"
    }
   ],
   "source": [
    "drop_zero_df.count()"
   ]
  },
  {
   "cell_type": "code",
   "execution_count": 11,
   "metadata": {},
   "outputs": [],
   "source": [
    "drop_zero_df.to_csv('../Resources/cleaned_data.csv', index = False)"
   ]
  },
  {
   "cell_type": "code",
   "execution_count": null,
   "metadata": {},
   "outputs": [],
   "source": []
  },
  {
   "cell_type": "code",
   "execution_count": null,
   "metadata": {},
   "outputs": [],
   "source": []
  },
  {
   "cell_type": "code",
   "execution_count": null,
   "metadata": {},
   "outputs": [],
   "source": [
    "#remake dropped_df without rescanning original\n",
    "wip_df = pd.read_csv('../Resources/cleaned_data.csv')\n",
    "wip_df.head(20)"
   ]
  },
  {
   "cell_type": "code",
   "execution_count": null,
   "metadata": {},
   "outputs": [],
   "source": [
    "#Vehicle Make and Body Type Encoded - aw\n",
    "make_count = wip_df['Vehicle Make'].value_counts()\n",
    "body_count = wip_df['Vehicle Body Type'].value_counts()"
   ]
  },
  {
   "cell_type": "code",
   "execution_count": null,
   "metadata": {},
   "outputs": [],
   "source": [
    "#encoding dicts\n",
    "body_types = {\n",
    "    'SUBN':0,\n",
    "    '4DSD':1,\n",
    "    'VAN':2,\n",
    "    'PICK':3,\n",
    "    'DELV':4,\n",
    "    '2DSD':5,\n",
    "    'REFG':6,\n",
    "    'SDN':7\n",
    "}\n",
    "\n",
    "make_types = {\n",
    "    'HONDA':0,\n",
    "    'FORD':1,\n",
    "    'TOYOT':2,\n",
    "    'NISSA':3,\n",
    "    'CHEVR':4,\n",
    "    'ME/BE':5,\n",
    "    'BMW':6,\n",
    "    'JEEP':7,\n",
    "    'FRUEH':8,\n",
    "    'HYUND':9,\n",
    "    'SUBAR':10,\n",
    "    'LEXUS':11\n",
    "}"
   ]
  },
  {
   "cell_type": "code",
   "execution_count": null,
   "metadata": {},
   "outputs": [],
   "source": [
    "wip_df[\"body_type\"] = wip_df[\"Vehicle Body Type\"].apply(lambda x: body_types[x] if x in body_types else 8)\n",
    "wip_df[\"make_type\"] = wip_df[\"Vehicle Make\"].apply(lambda x: make_types[x] if x in make_types else 12)"
   ]
  },
  {
   "cell_type": "code",
   "execution_count": null,
   "metadata": {},
   "outputs": [],
   "source": []
  },
  {
   "cell_type": "code",
   "execution_count": null,
   "metadata": {},
   "outputs": [],
   "source": []
  },
  {
   "cell_type": "code",
   "execution_count": null,
   "metadata": {},
   "outputs": [],
   "source": []
  },
  {
   "cell_type": "code",
   "execution_count": null,
   "metadata": {},
   "outputs": [],
   "source": []
  },
  {
   "cell_type": "code",
   "execution_count": null,
   "metadata": {},
   "outputs": [],
   "source": []
  },
  {
   "cell_type": "code",
   "execution_count": null,
   "metadata": {},
   "outputs": [],
   "source": [
    "drop_zero_df.to_csv('../Resources/cleaned_data.csv', index = False)"
   ]
  },
  {
   "cell_type": "code",
   "execution_count": null,
   "metadata": {},
   "outputs": [],
   "source": []
  }
 ],
 "metadata": {
  "colab": {
   "provenance": []
  },
  "kernelspec": {
   "display_name": "mlenv",
   "language": "python",
   "name": "mlenv"
  },
  "language_info": {
   "codemirror_mode": {
    "name": "ipython",
    "version": 3
   },
   "file_extension": ".py",
   "mimetype": "text/x-python",
   "name": "python",
   "nbconvert_exporter": "python",
   "pygments_lexer": "ipython3",
   "version": "3.7.13"
  }
 },
 "nbformat": 4,
 "nbformat_minor": 1
}
